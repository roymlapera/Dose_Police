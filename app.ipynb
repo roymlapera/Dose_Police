{
 "cells": [
  {
   "cell_type": "code",
   "execution_count": 4,
   "metadata": {
    "executionInfo": {
     "elapsed": 41,
     "status": "ok",
     "timestamp": 1752113641154,
     "user": {
      "displayName": "Roy Lápera",
      "userId": "16176181972658159211"
     },
     "user_tz": 180
    },
    "id": "EbyXgq_DFatF"
   },
   "outputs": [
    {
     "name": "stdout",
     "output_type": "stream",
     "text": [
      "FastAPI disponible en: http://127.0.0.1:8000\n",
      "Streamlit disponible en: http://localhost:8501\n"
     ]
    }
   ],
   "source": [
    "GOOGLE_COLAB = False  # Cambiar a True si estás en Google Colab\n",
    "\n",
    "import threading\n",
    "import subprocess\n",
    "import uvicorn\n",
    "\n",
    "if GOOGLE_COLAB:\n",
    "    import nest_asyncio\n",
    "    from pyngrok import conf, ngrok\n",
    "\n",
    "    # Autenticación para ngrok\n",
    "    conf.get_default().auth_token = \"TU_AUTH_TOKEN\"\n",
    "\n",
    "    nest_asyncio.apply()\n",
    "\n",
    "    def run_fastapi():\n",
    "        uvicorn.run(\"backend_module:app\", host=\"127.0.0.1\", port=8000)\n",
    "\n",
    "    threading.Thread(target=run_fastapi).start()\n",
    "    public_url_api = ngrok.connect(8000)\n",
    "    print(\"FastAPI disponible en:\", public_url_api)\n",
    "\n",
    "    def run_streamlit():\n",
    "        subprocess.Popen([\"streamlit\", \"run\", \"frontend.py\", \"--server.port\", \"8501\"])\n",
    "\n",
    "    threading.Thread(target=run_streamlit).start()\n",
    "    public_url_streamlit = ngrok.connect(8501)\n",
    "    print(\"Streamlit disponible en:\", public_url_streamlit)\n",
    "\n",
    "else:\n",
    "    # Local (VSCode, etc.)\n",
    "    def run_fastapi():\n",
    "        uvicorn.run(\"backend_module:app\", host=\"127.0.0.1\", port=8000)\n",
    "\n",
    "    threading.Thread(target=run_fastapi).start()\n",
    "    print(\"FastAPI disponible en: http://127.0.0.1:8000\")\n",
    "\n",
    "    subprocess.Popen([\"streamlit\", \"run\", \"frontend.py\", \"--server.port\", \"8501\"])\n",
    "    print(\"Streamlit disponible en: http://localhost:8501\")\n"
   ]
  }
 ],
 "metadata": {
  "colab": {
   "authorship_tag": "ABX9TyM4vPArmUWU+UtiY/QcVbCM",
   "mount_file_id": "1BScs1j90wx-HuXRmSS0vw_IvNsfl1Cgh",
   "provenance": []
  },
  "kernelspec": {
   "display_name": "radio-env",
   "language": "python",
   "name": "python3"
  },
  "language_info": {
   "codemirror_mode": {
    "name": "ipython",
    "version": 3
   },
   "file_extension": ".py",
   "mimetype": "text/x-python",
   "name": "python",
   "nbconvert_exporter": "python",
   "pygments_lexer": "ipython3",
   "version": "3.11.4"
  }
 },
 "nbformat": 4,
 "nbformat_minor": 0
}
