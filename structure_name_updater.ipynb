{
 "cells": [
  {
   "cell_type": "code",
   "execution_count": 31,
   "metadata": {},
   "outputs": [
    {
     "name": "stdout",
     "output_type": "stream",
     "text": [
      "Appl: Apple\n",
      "Bana: Banana\n",
      "Orang: Orange\n",
      "Papple: Pineapple\n",
      "Kiw: Kiwi\n",
      "Mango: Mango\n",
      "Papaya: Papaya\n",
      "Guava: Guava\n"
     ]
    }
   ],
   "source": [
    "import tkinter as tk\n",
    "from tkinter import ttk\n",
    "\n",
    "def match_strings(list1, list2):\n",
    "    def get_replacement_dict():\n",
    "        misspelled_strings = [item2 for item2 in list2 if item2 not in list1]  # Get only misspelled strings\n",
    "\n",
    "        for i, var in enumerate(selected_vars):    #en selected_vars estan los elementos de list2 elegidos\n",
    "            value = var.get()\n",
    "            if value != \"\":\n",
    "                index = list2.index(misspelled_strings[i])  # Find the index of the misspelled string in list2\n",
    "                corrected_dict[list2[index]] = value  # Add the correct value to the dictionary\n",
    "            else:\n",
    "                corrected_dict[list2[index]] = list2[index]  # If no correction was made, use the original string\n",
    "\n",
    "        # Add the strings that were already present in list1\n",
    "        for item in list2:\n",
    "            if item not in corrected_dict:\n",
    "                corrected_dict[item] = item\n",
    "\n",
    "        root.destroy()\n",
    "\n",
    "\n",
    "    root = tk.Tk()\n",
    "    root.title(\"Match Structures\")\n",
    "\n",
    "    label_title = tk.Label(root, text=\"Match the misspelled structures with the corresponding ones in the list.\")\n",
    "    label_title.grid(row=0, columnspan=2)\n",
    "\n",
    "    selected_vars = []\n",
    "    row_count = 1  # Keep track of the current row\n",
    "\n",
    "    for i, item2 in enumerate(list2):\n",
    "        if item2 not in list1:  # Show only misspelled strings\n",
    "            label = tk.Label(root, text=item2)\n",
    "            label.grid(row=row_count, column=0)\n",
    "\n",
    "            var = tk.StringVar()\n",
    "            dropdown = ttk.Combobox(root, textvariable=var, values=list1)\n",
    "            dropdown.grid(row=row_count, column=1)\n",
    "\n",
    "            selected_vars.append(var)\n",
    "            row_count += 1\n",
    "\n",
    "    # Create a frame to hold the \"OK\" button at the bottom\n",
    "    button_frame = tk.Frame(root)\n",
    "    button_frame.grid(row=row_count, columnspan=2, sticky=\"ew\")\n",
    "\n",
    "    ok_button = tk.Button(button_frame, text=\"OK\", command=get_replacement_dict)\n",
    "    ok_button.pack(pady=10)  # Add padding to the button\n",
    "\n",
    "    root.mainloop()\n",
    "\n",
    "# Example usage with larger lists:\n",
    "list1 = [\"Apple\", \"Banana\", \"Orange\", \"Pineapple\", \"Mango\", \"Papaya\", \"Guava\", \"Kiwi\"]\n",
    "list2 = [\"Appl\", \"Bana\", \"Orang\", \"Papple\", \"Mango\", \"Papaya\", \"Guava\", \"Kiw\"]\n",
    "corrected_dict = {}\n",
    "\n",
    "match_strings(list1, list2)\n",
    "\n",
    "for key, value in corrected_dict.items():\n",
    "    print(f'{key}: {value}')"
   ]
  }
 ],
 "metadata": {
  "kernelspec": {
   "display_name": "Python 3",
   "language": "python",
   "name": "python3"
  },
  "language_info": {
   "codemirror_mode": {
    "name": "ipython",
    "version": 3
   },
   "file_extension": ".py",
   "mimetype": "text/x-python",
   "name": "python",
   "nbconvert_exporter": "python",
   "pygments_lexer": "ipython3",
   "version": "3.10.8"
  }
 },
 "nbformat": 4,
 "nbformat_minor": 2
}
